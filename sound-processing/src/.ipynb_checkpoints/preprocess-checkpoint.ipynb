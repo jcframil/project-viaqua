import librosa
import librosa.display
import matplotlib.pyplot as plt
import numpy as np
import os

def generate_spectrogram(audio_path, output_path):
    y, sr = librosa.load(audio_path)
    mel_spec = librosa.feature.melspectrogram(y=y, sr=sr)
    mel_spec_db = librosa.power_to_db(mel_spec, ref=np.max)
    
    # Guardar el espectrograma como imagen
    plt.figure(figsize=(10, 4))
    librosa.display.specshow(mel_spec_db, sr=sr, x_axis='time', y_axis='mel', cmap='viridis')
    plt.colorbar(format='%+2.0f dB')
    plt.title('Mel-Espectrograma')
    plt.tight_layout()
    plt.savefig(output_path)
    plt.close()

if __name__ == "__main__":
    input_folder = "../data/sonidos/"
    output_folder = "../data/espectrogramas/"
    os.makedirs(output_folder, exist_ok=True)
    
    for audio_file in os.listdir(input_folder):
        if audio_file.endswith(".wav"):
            input_path = os.path.join(input_folder, audio_file)
            output_path = os.path.join(output_folder, f"{os.path.splitext(audio_file)[0]}.png")
            generate_spectrogram(input_path, output_path)
